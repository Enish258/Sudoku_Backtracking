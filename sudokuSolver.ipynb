{
 "cells": [
  {
   "cell_type": "code",
   "execution_count": 4,
   "metadata": {},
   "outputs": [
    {
     "name": "stdout",
     "output_type": "stream",
     "text": [
      "[[9, 3, 4, 1, 7, 2, 6, 8, 5], [7, 6, 5, 8, 9, 3, 2, 4, 1], [8, 1, 2, 6, 4, 5, 3, 9, 7], [4, 2, 9, 5, 8, 1, 7, 6, 3], [6, 5, 8, 7, 3, 9, 1, 2, 4], [1, 7, 3, 4, 2, 6, 8, 5, 9], [2, 9, 7, 3, 5, 8, 4, 1, 6], [5, 4, 6, 2, 1, 7, 9, 3, 8], [3, 8, 1, 9, 6, 4, 5, 7, 2]]\n"
     ]
    }
   ],
   "source": [
    "def isComplete(board, row, col):\n",
    "    for row in range(9):\n",
    "        for col in range(9):\n",
    "            if board[row][col]==0:\n",
    "                return [False, row, col]\n",
    "    return [True, -1. -1]\n",
    "\n",
    "\n",
    "def isValid(board, row, col, k):\n",
    "    #row check\n",
    "    for i in range(9):\n",
    "        if board[row][i]==k:\n",
    "            return False\n",
    "    \n",
    "    #col check\n",
    "    for i in range(9):\n",
    "        if board[i][col]==k:\n",
    "            return False\n",
    "    \n",
    "    #grid check\n",
    "    x= (row//3)*3\n",
    "    y= (col//3)*3\n",
    "    \n",
    "    for i in range(3):\n",
    "        r = x+i\n",
    "        for j in range(3):\n",
    "            c = y+j\n",
    "            if board[r][c]==k:\n",
    "                return False\n",
    "    #Safe to place here\n",
    "    return True\n",
    "    \n",
    "\n",
    "def Solve(board):\n",
    "    row=0\n",
    "    col=0\n",
    "    temp = isComplete(board, row, col)\n",
    "    \n",
    "    if temp[0]:\n",
    "        return True\n",
    "    else:\n",
    "        row = temp[1]\n",
    "        col = temp[2]\n",
    "    for k in range(1, 10):\n",
    "        if isValid(board, row, col, k):\n",
    "            board[row][col]=k\n",
    "            if Solve(board):\n",
    "                return True\n",
    "            else:\n",
    "                board[row][col]=0\n",
    "    return False\n",
    "\n",
    "#board = [\n",
    "#    [9,0,0,1,0,0,0,0,5],\n",
    "#    [0,0,5,0,9,0,2,0,1],\n",
    "#    [8,0,0,0,4,0,0,0,0],\n",
    "#    [0,0,0,0,8,0,0,0,0],\n",
    "#    [0,0,0,7,0,0,0,0,0],\n",
    "#    [0,0,0,0,2,6,0,0,9],\n",
    "#    [2,0,0,3,0,0,0,0,6],\n",
    "#    [0,0,0,2,0,0,9,0,0],\n",
    "#    [0,0,1,9,0,4,5,7,0],\n",
    "#]\n",
    "\n",
    "#Solve(board)\n",
    "\n",
    "#print(board)"
   ]
  },
  {
   "cell_type": "code",
   "execution_count": null,
   "metadata": {},
   "outputs": [],
   "source": []
  }
 ],
 "metadata": {
  "kernelspec": {
   "display_name": "Python 3",
   "language": "python",
   "name": "python3"
  },
  "language_info": {
   "codemirror_mode": {
    "name": "ipython",
    "version": 3
   },
   "file_extension": ".py",
   "mimetype": "text/x-python",
   "name": "python",
   "nbconvert_exporter": "python",
   "pygments_lexer": "ipython3",
   "version": "3.7.3"
  }
 },
 "nbformat": 4,
 "nbformat_minor": 2
}
